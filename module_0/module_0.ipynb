{
 "cells": [
  {
   "cell_type": "code",
   "execution_count": 12,
   "metadata": {},
   "outputs": [
    {
     "name": "stdout",
     "output_type": "stream",
     "text": [
      "Ваш алгоритм угадывает число в среднем за 5 попыток\n"
     ]
    }
   ],
   "source": [
    "import numpy as np\n",
    "\n",
    "\n",
    "def median(min_value, max_value):\n",
    "    return (max_value + min_value) // 2\n",
    "\n",
    "\n",
    "def game(number):\n",
    "    min_value = 1\n",
    "    max_value = 100\n",
    "    predict = median(min_value, max_value)\n",
    "    count = 1\n",
    "\n",
    "    while number != predict:\n",
    "        count += 1\n",
    "\n",
    "        if number > predict:\n",
    "            min_value = predict\n",
    "        elif number < predict:\n",
    "            max_value = predict\n",
    "\n",
    "        predict = median(min_value, max_value)\n",
    "    return count\n",
    "\n",
    "\n",
    "def get_score():\n",
    "    count_list = []\n",
    "    np.random.seed(1)\n",
    "    random_array = np.random.randint(1, 101, size=100)\n",
    "\n",
    "    for number in random_array:\n",
    "        count_list.append(game(number))\n",
    "\n",
    "    score = int(np.mean(count_list))\n",
    "\n",
    "    return score\n",
    "\n",
    "\n",
    "print(f\"Ваш алгоритм угадывает число в среднем за {get_score()} попыток\")\n"
   ]
  }
 ],
 "metadata": {
  "kernelspec": {
   "display_name": "Python 3",
   "language": "python",
   "name": "python3"
  },
  "language_info": {
   "codemirror_mode": {
    "name": "ipython",
    "version": 3
   },
   "file_extension": ".py",
   "mimetype": "text/x-python",
   "name": "python",
   "nbconvert_exporter": "python",
   "pygments_lexer": "ipython3",
   "version": "3.7.6"
  }
 },
 "nbformat": 4,
 "nbformat_minor": 4
}
